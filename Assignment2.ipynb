{
  "nbformat": 4,
  "nbformat_minor": 0,
  "metadata": {
    "colab": {
      "name": "Untitled0.ipynb",
      "provenance": [],
      "authorship_tag": "ABX9TyNCZE5PLMYFizbjJTcdMFAp",
      "include_colab_link": true
    },
    "kernelspec": {
      "name": "python3",
      "display_name": "Python 3"
    }
  },
  "cells": [
    {
      "cell_type": "markdown",
      "metadata": {
        "id": "view-in-github",
        "colab_type": "text"
      },
      "source": [
        "<a href=\"https://colab.research.google.com/github/Kinsukh22/Letsupgrade/blob/main/Assignment2.ipynb\" target=\"_parent\"><img src=\"https://colab.research.google.com/assets/colab-badge.svg\" alt=\"Open In Colab\"/></a>"
      ]
    },
    {
      "cell_type": "code",
      "metadata": {
        "id": "ylU6LsoTOC31",
        "outputId": "23c00054-edfd-4350-f51d-f777c930066c",
        "colab": {
          "base_uri": "https://localhost:8080/"
        }
      },
      "source": [
        "list = []\n",
        "\n",
        "for i in range(10):\n",
        "\tnumber = int(input(\"\"))\n",
        "\tif number%2==0:\n",
        "\t\tlist.append(number)\n",
        "print(list)"
      ],
      "execution_count": 18,
      "outputs": [
        {
          "output_type": "stream",
          "text": [
            "1\n",
            "2\n",
            "3\n",
            "4\n",
            "5\n",
            "6\n",
            "7\n",
            "8\n",
            "9\n",
            "10\n",
            "[2, 4, 6, 8, 10]\n"
          ],
          "name": "stdout"
        }
      ]
    },
    {
      "cell_type": "code",
      "metadata": {
        "id": "UDsHiPw6Q23H",
        "outputId": "8b7b24a2-6db8-49ab-c362-b75c48234d6b",
        "colab": {
          "base_uri": "https://localhost:8080/"
        }
      },
      "source": [
        "[i for i in range(1,101) if int(i**0.5)==i**0.5]\n",
        "\n",
        "print(i)"
      ],
      "execution_count": 20,
      "outputs": [
        {
          "output_type": "stream",
          "text": [
            "9\n"
          ],
          "name": "stdout"
        }
      ]
    },
    {
      "cell_type": "code",
      "metadata": {
        "id": "wANal2ltdA5F",
        "outputId": "0a490a28-f240-43c6-d10e-1bb2cc1e7cb3",
        "colab": {
          "base_uri": "https://localhost:8080/"
        }
      },
      "source": [
        "n=int(input(\"\"))\n",
        "d = dict()\n",
        "\n",
        "for x in range(1,n+1):\n",
        "    d[x]=x*x\n",
        "\n",
        "print(d) "
      ],
      "execution_count": 22,
      "outputs": [
        {
          "output_type": "stream",
          "text": [
            "10\n",
            "{1: 1, 2: 4, 3: 9, 4: 16, 5: 25, 6: 36, 7: 49, 8: 64, 9: 81, 10: 100}\n"
          ],
          "name": "stdout"
        }
      ]
    },
    {
      "cell_type": "code",
      "metadata": {
        "id": "--lZPu63gCFc",
        "outputId": "4771a951-f960-4771-d1f2-408eee0d2d10",
        "colab": {
          "base_uri": "https://localhost:8080/"
        }
      },
      "source": [
        "pos = {\"x\":0,\"y\":0}\n",
        "n = int(input())\n",
        "for i in range (n):\n",
        "    move =  input().split(\" \")    \n",
        "if move[0].lower() == \"up\":\n",
        "   pos[\"y\"] += int(move[1])\n",
        "elif move[0].lower() == \"down\":\n",
        "   pos[\"y\"] -= int(move[1])\n",
        "elif move[0].lower() == \"left\":\n",
        "   pos[\"x\"] -= int(move[1])\n",
        "elif move[0].lower() == \"right\":\n",
        "   pos[\"x\"] += int(move[1])\n",
        "print(int(round((pos[\"x\"]**2 + pos[\"y\"]**2)**0.5)))   "
      ],
      "execution_count": 6,
      "outputs": [
        {
          "output_type": "stream",
          "text": [
            "4\n",
            "9\n",
            "8\n",
            "7\n",
            "8\n",
            "0\n"
          ],
          "name": "stdout"
        }
      ]
    }
  ]
}